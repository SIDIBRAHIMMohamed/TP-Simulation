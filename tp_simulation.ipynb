{
  "nbformat": 4,
  "nbformat_minor": 0,
  "metadata": {
    "colab": {
      "provenance": [],
      "include_colab_link": true
    },
    "kernelspec": {
      "name": "python3",
      "display_name": "Python 3"
    },
    "language_info": {
      "name": "python"
    }
  },
  "cells": [
    {
      "cell_type": "markdown",
      "metadata": {
        "id": "view-in-github",
        "colab_type": "text"
      },
      "source": [
        "<a href=\"https://colab.research.google.com/github/SIDIBRAHIMMohamed/TP-Simulation/blob/AnalyseDonneesEntree/tp_simulation.ipynb\" target=\"_parent\"><img src=\"https://colab.research.google.com/assets/colab-badge.svg\" alt=\"Open In Colab\"/></a>"
      ]
    },
    {
      "cell_type": "code",
      "execution_count": null,
      "metadata": {
        "id": "ePhXeaIZkdX8"
      },
      "outputs": [],
      "source": [
        "import heapq\n",
        "import random\n",
        "import numpy as np"
      ]
    },
    {
      "cell_type": "code",
      "source": [
        "# Initialisation des variables globales\n",
        "DateSimu = 0.0  # Temps simulé\n",
        "Echeancier = []  # Liste des événements sous forme de tas (heap)\n",
        "\n",
        "# Variables du système\n",
        "\n",
        "NbBus = 0       # Nombre total de bus arrivés\n",
        "NbBusRep = 0    # Nombre de bus nécessitant une réparation\n",
        "QC = 0          # Nombre de bus dans la file de contrôle\n",
        "QR = 0          # Nombre de bus dans la file de réparation`\n",
        "BC = 0          # Statut du centre de contrôle (0: libre, 1: occupé)\n",
        "BR = 0          # Nombre de postes de réparation occupés (max 2)\n",
        "  # Variables pour les statistiques\n",
        "AireQC = 0    # Aire sous la courbe de QC\n",
        "AireQR = 0.0    # Aire sous la courbe de QR\n",
        "AireBR = 0.0    # Aire sous la courbe de BR\n",
        "\n",
        "DurCtrlMin = 15 # La duree de controle Minimal (en minutes)\n",
        "DurCtrlMax = 65 # La duree de controle Maximal (en minutes)\n",
        "DurRepaMin = 2.8*60.0 # La duree de reparation Minimal (en minutes)\n",
        "DurRepaMax = 5.5*60.0 # La duree de reparation Maximal (en minutes)\n",
        "\n",
        "\n",
        "\n"
      ],
      "metadata": {
        "id": "k8WpFUx5uLh8"
      },
      "execution_count": null,
      "outputs": []
    },
    {
      "cell_type": "code",
      "source": [
        "# t : tuple (Evt, Date)\n",
        "def insertIntoEcheanchier(t) :\n",
        "  global Echeancier\n",
        "\n",
        "  Echeancier.append(t)\n",
        "  Echeancier.sort(key=lambda x: x[1])"
      ],
      "metadata": {
        "id": "W1IMvlgXFmIy"
      },
      "execution_count": null,
      "outputs": []
    },
    {
      "cell_type": "code",
      "source": [
        "# Definition des evenements\n",
        "def ArriveeBus(date):\n",
        "  global NbBus\n",
        "\n",
        "  # Planifier la prochaine arriee de bus\n",
        "  inter_arrival = np.random.exponential(3/4)*60.0 # Moyenne de 2 heures puis convertir en minutes\n",
        "  insertIntoEcheanchier((0, date + inter_arrival ))\n",
        "\n",
        "  # Incrementer le nombre de bus\n",
        "  NbBus +=1\n",
        "  #Inserer l'evenement ArriveeFileC\n",
        "  insertIntoEcheanchier((1, date))\n",
        "\n",
        "#Arrive file de controle\n",
        "def ArriveeFileC(date):\n",
        "  global QC, BC\n",
        "  QC +=1\n",
        "  if BC == 0:\n",
        "    insertIntoEcheanchier((2, date))\n",
        "\n",
        "def AccessControle(date):\n",
        "  global QC, BC\n",
        "  QC -= 1\n",
        "  BC = 1 # Le centre de controle est maintenant occupe\n",
        "  #Duree du controle (uniforme entre 15 min et 1h05)\n",
        "  duree_controle = random.uniform(DurCtrlMin, DurCtrlMax)\n",
        "  insertIntoEcheanchier((3, date + duree_controle))\n",
        "\n",
        "# Je vais definir une fonction AccessControle pour la question 5 qui verifie que le nombre de bus\n",
        "# ayant accede au controle est egale a m et declanche ensuite l'evenement fin simulation\n",
        "\n",
        "def AccessControleQuestion5(date, m):\n",
        "  global QC, BC, NbBus\n",
        "  if NbBus == m:\n",
        "    insertIntoEcheanchier((8, date))\n",
        "  else:\n",
        "     QC -= 1\n",
        "     BC = 1 # Le centre de controle est maintenant occupe\n",
        "     duree_controle = random.uniform(DurCtrlMin, DurCtrlMax)\n",
        "     insertIntoEcheanchier((3, date + duree_controle))\n",
        "\n",
        "\n",
        "def DepartControle(date):\n",
        "  global QC, BC, QR\n",
        "\n",
        "\n",
        "  BC = 0 # Le centre de controle est maintenant libre\n",
        "  if QC > 0:\n",
        "    insertIntoEcheanchier((2, date))\n",
        "  # Probabilite de 30% de necessiter une reparation\n",
        "  if random.random() < 0.3:\n",
        "    insertIntoEcheanchier((4,date))\n",
        "\n",
        "# Arrive file de reparation\n",
        "def ArriveeFileR(date):\n",
        "  global QR, BC, BR, NbBusRep\n",
        "  QR += 1\n",
        "  NbBusRep += 1\n",
        "  if BR < 2:\n",
        "    insertIntoEcheanchier((5,date))\n",
        "\n",
        "def AccesReparation(date):\n",
        "    global QR, BR\n",
        "    QR -= 1\n",
        "    BR += 1  # Un poste de réparation est maintenant occupé\n",
        "    # Durée de la réparation (uniforme entre 2.8 et 5.5 heures)\n",
        "    duree_reparation = random.uniform(DurRepaMin, DurRepaMax)\n",
        "    insertIntoEcheanchier((6,date))\n",
        "\n",
        "def DebutSimulation(date):\n",
        "  global NbBus, NbBusRep, QC, QR, BC, BR, AireQC, AireQR, AireBR\n",
        "\n",
        "  # Initialisation de variables systeme\n",
        "\n",
        "  NbBus = 0       # Nombre total de bus arrivés\n",
        "  NbBusRep = 0    # Nombre de bus nécessitant une réparation\n",
        "  QC = 0          # Nombre de bus dans la file de contrôle\n",
        "  QR = 0          # Nombre de bus dans la file de réparation`\n",
        "  BC = 0          # Statut du centre de contrôle (0: libre, 1: occupé)\n",
        "  BR = 0          # Nombre de postes de réparation occupés (max 2)\n",
        "  # Variables pour les statistiques\n",
        "  AireQC = 0.0    # Aire sous la courbe de QC\n",
        "  AireQR = 0.0    # Aire sous la courbe de QR\n",
        "  AireBR = 0.0    # Aire sous la courbe de BR\n",
        "  # Planifier la premiere arrivee de bus\n",
        "  Inter_arrival = random.expovariate(1/2) *60 # Moyenne de 2 heures\n",
        "  insertIntoEcheanchier((0, DateSimu + Inter_arrival))\n",
        "  # Planifier la fin de la simulation\n",
        "  insertIntoEcheanchier((8, 160.0*60))\n",
        "\n",
        "def FinSimulation(date):\n",
        "  global Echeancier, NbBus, NbBusRep, AireQC, AireQR, AireBR, TattenteMoyenneAvantControle, TattenteMoyenneAvantReparation, TauxUtilisationCentreReparation\n",
        "\n",
        "  Echeancier = []\n",
        "  TattenteMoyenneAvantControle = AireQC/NbBus\n",
        "  if NbBusRep > 0:\n",
        "    TattenteMoyenneAvantReparation = AireQR/NbBusRep\n",
        "  else :\n",
        "    TattenteMoyenneAvantReparation = 0\n",
        "  TauxUtilisationCentreReparation = AireBR/(2*160.0*60)\n",
        "\n",
        "  print(f\"Temps d'attente moyen avant controle = {TattenteMoyenneAvantControle/60.0}\\nTemps d'attente moyen avant reparation = {TattenteMoyenneAvantReparation/60.0}\\nTaux d'utilisation du centre de reparation = {TauxUtilisationCentreReparation}\\n NbBus = {NbBus}\" )\n",
        "  print(f\"AireQc = {AireQC}\\t AireQR = {AireQR}\\t AireBR = {AireBR}\")\n",
        "def AccessReparation(date) :\n",
        "  global QR, BR\n",
        "  QR-=1\n",
        "  BR+=1\n",
        "  duree_reparation = random.uniform(DurRepaMin, DurRepaMax)\n",
        "  insertIntoEcheanchier((6,DateSimu + duree_reparation))\n",
        "\n",
        "def DepartReparation(date) :\n",
        "  global QR, BR\n",
        "  BR-=1\n",
        "  if QR > 0 :\n",
        "    insertIntoEcheanchier((5, DateSimu))\n",
        "\n",
        "\n",
        "\n"
      ],
      "metadata": {
        "id": "43CU0yNxu05B"
      },
      "execution_count": null,
      "outputs": []
    },
    {
      "cell_type": "code",
      "source": [],
      "metadata": {
        "id": "9v-AMwPRA-_W"
      },
      "execution_count": null,
      "outputs": []
    },
    {
      "cell_type": "code",
      "source": [
        "liste = [(1, 2), (2, 3), (0, 3)]\n",
        "liste.sort(key=lambda x: x[1])\n",
        "print(liste)"
      ],
      "metadata": {
        "colab": {
          "base_uri": "https://localhost:8080/"
        },
        "id": "Uazt51Hi34F3",
        "outputId": "5dc8a624-292c-477c-d0b9-444c17daa627"
      },
      "execution_count": null,
      "outputs": [
        {
          "output_type": "stream",
          "name": "stdout",
          "text": [
            "[(1, 2), (2, 3), (0, 3)]\n"
          ]
        }
      ]
    },
    {
      "cell_type": "markdown",
      "source": [],
      "metadata": {
        "id": "_fVWFVlN4GS-"
      }
    },
    {
      "cell_type": "markdown",
      "source": [
        "# **Simulateur**"
      ],
      "metadata": {
        "id": "T4MGNEo6-Z2I"
      }
    },
    {
      "cell_type": "code",
      "source": [],
      "metadata": {
        "id": "rSbTlA1y-cD5"
      },
      "execution_count": null,
      "outputs": []
    },
    {
      "cell_type": "code",
      "source": [
        "def MiseAJourDesAires(D1,D2) :\n",
        "  global AireQC, AireQR, AireBR, QC, QR, BR  # Declare variables as global\n",
        "  AireQC = AireQC + (D2-D1)*QC\n",
        "  AireQR = AireQR + (D2-D1)*QR\n",
        "  AireBR = AireBR + (D2-D1)*BR"
      ],
      "metadata": {
        "id": "a5VNgiVT_Cy3"
      },
      "execution_count": null,
      "outputs": []
    },
    {
      "cell_type": "code",
      "source": [
        "# ArrivéeBus->0\n",
        "# ArriveeFileC->1\n",
        "# AccesControle->2\n",
        "# DepartControle->3\n",
        "# ArriveeFileR->4\n",
        "# AccesReparation->5\n",
        "# DepartReparation->6\n",
        "# DebutSimulation->7\n",
        "# FinSimulation->8\n",
        "# MiseAJourDesAires->9"
      ],
      "metadata": {
        "id": "zmpfnyzB-tad"
      },
      "execution_count": null,
      "outputs": []
    },
    {
      "cell_type": "code",
      "source": [
        "def Simulateur() :\n",
        "  global DateSimu, Echeancier\n",
        "  DateSimu = 0.0\n",
        "  Echeancier = []\n",
        "  insertIntoEcheanchier((7, DateSimu))\n",
        "  while Echeancier != [] :\n",
        "\n",
        "    Evt, Date = Echeancier.pop(0)\n",
        "    MiseAJourDesAires(DateSimu, Date)\n",
        "    DateSimu = Date\n",
        "    match Evt :\n",
        "      case 0 :\n",
        "        ArriveeBus(DateSimu)\n",
        "      case 1 :\n",
        "        ArriveeFileC(DateSimu)\n",
        "      case 2 :\n",
        "        AccessControle(DateSimu)\n",
        "      case 3 :\n",
        "        DepartControle(DateSimu)\n",
        "      case 4 :\n",
        "        ArriveeFileR(DateSimu)\n",
        "      case 5 :\n",
        "        AccessReparation(DateSimu)\n",
        "      case 6 :\n",
        "        DepartReparation(DateSimu)\n",
        "      case 7 :\n",
        "        DebutSimulation(DateSimu)\n",
        "      case 8 :\n",
        "        FinSimulation(DateSimu)\n",
        "\n"
      ],
      "metadata": {
        "id": "rBmipuQW-u09"
      },
      "execution_count": null,
      "outputs": []
    },
    {
      "cell_type": "code",
      "source": [
        "# Ce simulateur poura etre utiliser dans la question 5\n",
        "def SimulateurQuestion5(m) :\n",
        "  global DateSimu, Echeancier\n",
        "  DateSimu = 0.0\n",
        "  Echeancier = []\n",
        "  insertIntoEcheanchier((7, DateSimu))\n",
        "  while Echeancier != [] :\n",
        "\n",
        "    Evt, Date = Echeancier.pop(0)\n",
        "    MiseAJourDesAires(DateSimu, Date)\n",
        "    DateSimu = Date\n",
        "    match Evt :\n",
        "      case 0 :\n",
        "        ArriveeBus(DateSimu)\n",
        "      case 1 :\n",
        "        ArriveeFileC(DateSimu)\n",
        "      case 2 :\n",
        "        AccessControleQuestion5(DateSimu, m)\n",
        "      case 3 :\n",
        "        DepartControle(DateSimu)\n",
        "      case 4 :\n",
        "        ArriveeFileR(DateSimu)\n",
        "      case 5 :\n",
        "        AccessReparation(DateSimu)\n",
        "      case 6 :\n",
        "        DepartReparation(DateSimu)\n",
        "      case 7 :\n",
        "        DebutSimulation(DateSimu)\n",
        "      case 8 :\n",
        "        FinSimulation(DateSimu)\n"
      ],
      "metadata": {
        "id": "96te9CV2bNKP"
      },
      "execution_count": null,
      "outputs": []
    },
    {
      "cell_type": "code",
      "source": [
        "Simulateur()"
      ],
      "metadata": {
        "colab": {
          "base_uri": "https://localhost:8080/"
        },
        "id": "DY5fCF-XCeuU",
        "outputId": "92f85af6-0254-4b33-e180-5a90af681ad6"
      },
      "execution_count": null,
      "outputs": [
        {
          "output_type": "stream",
          "name": "stdout",
          "text": [
            "Temps d'attente moyen avant controle = 1.4211830846179658\n",
            "Temps d'attente moyen avant reparation = 1.191012467771873\n",
            "Taux d'utilisation du centre de reparation = 0.6800214273614373\n",
            " NbBus = 208\n",
            "AireQc = 17736.364896032213\t AireQR = 3858.880395580868\t AireBR = 13056.411405339597\n"
          ]
        }
      ]
    },
    {
      "cell_type": "code",
      "source": [
        "SimulateurQuestion5(115)"
      ],
      "metadata": {
        "colab": {
          "base_uri": "https://localhost:8080/"
        },
        "id": "II4Sz2RNcRxA",
        "outputId": "b6366668-ebec-4749-c6bf-0dd311c797d8"
      },
      "execution_count": null,
      "outputs": [
        {
          "output_type": "stream",
          "name": "stdout",
          "text": [
            "Temps d'attente moyen avant controle = 2.6133904712666918\n",
            "Temps d'attente moyen avant reparation = 2.149357341771269\n",
            "Taux d'utilisation du centre de reparation = 0.7815386557304398\n",
            " NbBus = 209\n",
            "AireQc = 32771.91650968431\t AireQR = 7737.686430376568\t AireBR = 15005.542190024444\n"
          ]
        }
      ]
    },
    {
      "cell_type": "markdown",
      "source": [
        "# **Question 3**"
      ],
      "metadata": {
        "id": "o6dPyqBUdEWr"
      }
    },
    {
      "cell_type": "code",
      "source": [
        "import pandas as pd\n",
        "import matplotlib.pyplot as plt\n",
        "import numpy as np\n",
        "from scipy.stats import chi2, expon, norm, gamma\n",
        "\n",
        "\n",
        "####################loi d'inter-arrivée#####################################\n",
        "# Charge les données du fichier et extraire les heures d'arrivée\n",
        "arrivals = []\n",
        "with open(\"DonneesControle.txt\", \"r\") as file:\n",
        "    for line in file:\n",
        "        data = line.strip().split()  # Sépare les valeurs par espace\n",
        "        arrivals.append(float(data[0]))  # Récupère uniquement l'heure d'arrivée (première valeur)\n",
        "\n",
        "# Convertir les heures d'arrivée en temps cumulatifs (secondes) pour simplifier l'analyse\n",
        "#arrivals_in_seconds = [arrival * 3600 for arrival in arrivals]  # Conversion en secondes\n",
        "\n",
        "print(arrivals)\n",
        "#intervals = [arrivals[i+1] - arrivals[i] for i in range(len(arrivals) - 1)]\n",
        "intervals=np.diff(arrivals)\n",
        "print(intervals)\n",
        "# Histogramme des intervalles en heures\n",
        "plt.hist(intervals, bins=30, alpha=0.7, color='blue')\n",
        "plt.title(\"Distribution des Intervalles d'Inter-Arrivée (heures)\")\n",
        "plt.xlabel(\"Intervalle en heures\")\n",
        "plt.ylabel(\"Fréquence\")\n",
        "plt.show()\n",
        "\n",
        "# Définir les bords des bins pour l'histogramme\n",
        "num_bins = 30\n",
        "observed_counts, bin_edges = np.histogram(intervals, bins=num_bins)\n",
        "bin_width = bin_edges[1] - bin_edges[0]\n",
        "bin_centers = bin_edges[:-1] + bin_width / 2\n",
        "\n",
        "# Fréquences attendues pour chaque distribution\n",
        "expon_fit = expon.fit(intervals)\n",
        "expected_expon = len(intervals) * expon.pdf(bin_centers, *expon_fit) * bin_width\n",
        "\n",
        "norm_fit = norm.fit(intervals)\n",
        "expected_norm = len(intervals) * norm.pdf(bin_centers, *norm_fit) * bin_width\n",
        "\n",
        "gamma_fit = gamma.fit(intervals)\n",
        "expected_gamma = len(intervals) * gamma.pdf(bin_centers, *gamma_fit) * bin_width\n",
        "\n",
        "# Test du χ² pour chaque distribution\n",
        "chi2_expon = chi2.sf(np.sum((observed_counts - expected_expon)**2 / expected_expon), num_bins - 1)\n",
        "chi2_norm = chi2.sf(np.sum((observed_counts - expected_norm)**2 / expected_norm), num_bins - 1)\n",
        "chi2_gamma = chi2.sf(np.sum((observed_counts - expected_gamma)**2 / expected_gamma), num_bins - 1)\n",
        "\n",
        "# Résultats des tests du χ²\n",
        "print(\"Test du χ² pour la loi exponentielle:\", chi2_expon)\n",
        "print(\"Test du χ² pour la loi normale:\", chi2_norm)\n",
        "print(\"Test du χ² pour la loi gamma:\", chi2_gamma)\n",
        "\n",
        "# Calcul de la moyenne des intervalles\n",
        "mean_interval = np.mean(intervals)\n",
        "\n",
        "# Estimation de lambda\n",
        "lambda_estimate = 1 / mean_interval\n",
        "print(f\"Estimation de lambda : {lambda_estimate}\")\n",
        "\n",
        "# Histogramme des intervalles\n",
        "plt.hist(intervals, bins=30, density=True, alpha=0.6, color='g', label='Données observées')\n",
        "\n",
        "# Création des points pour la courbe exponentielle\n",
        "x = np.linspace(0, max(intervals), 100)\n",
        "y = lambda_estimate * np.exp(-lambda_estimate * x)\n",
        "\n",
        "# Ajout de la courbe exponentielle\n",
        "plt.plot(x, y, 'r-', label='Ajustement exponentiel')\n",
        "plt.title('Ajustement d\\'une loi exponentielle')\n",
        "plt.xlabel('Intervalle')\n",
        "plt.ylabel('Densité')\n",
        "plt.legend()\n",
        "plt.show()\n",
        "\n",
        "\n"
      ],
      "metadata": {
        "id": "6ghdUeHmyOxr",
        "colab": {
          "base_uri": "https://localhost:8080/",
          "height": 1000
        },
        "outputId": "342a73d0-9f1c-4259-c9c0-3a87e929fa6e"
      },
      "execution_count": 3,
      "outputs": [
        {
          "output_type": "stream",
          "name": "stdout",
          "text": [
            "[0.71, 0.76, 1.36, 2.49, 2.63, 2.97, 3.03, 4.19, 6.91, 7.29, 7.52, 9.26, 9.92, 9.97, 10.35, 11.86, 11.92, 12.09, 12.84, 13.08, 13.21, 15.71, 16.12, 16.72, 17.76, 19.7, 19.85, 20.73, 21.03, 21.24, 23.37, 25.01, 25.74, 25.78, 26.01, 27.01, 27.49, 27.81, 27.99, 28.26, 28.53, 30.29, 31.03, 32.65, 34.29, 34.33, 34.89, 35.48, 35.54, 35.87, 36.0, 36.26, 36.9, 37.16, 37.45, 39.07, 39.61, 41.0, 41.51, 42.31, 42.74, 43.0, 46.76, 47.69, 47.69, 48.43, 49.18, 49.92, 50.35, 50.88, 52.23, 52.56, 53.16, 53.95, 54.11, 55.56, 55.91, 57.13, 57.13, 57.28, 59.13, 59.48, 59.7, 59.92, 60.19, 60.4, 60.41, 60.72, 61.83, 61.99, 62.75, 62.99, 63.39, 64.21, 64.46, 65.48, 65.99, 66.49, 67.03, 67.2, 67.32, 67.38, 67.52, 68.24, 70.24, 70.46, 71.31, 71.38, 71.6, 71.67, 72.0, 72.03, 72.15, 72.2, 72.97, 73.48, 73.56, 75.23, 75.64, 76.03, 77.47, 78.6, 78.89, 80.83, 80.86, 80.91, 81.16, 82.11, 82.37, 82.73, 82.76, 83.57, 84.76, 84.89, 85.45, 87.85, 88.23, 89.33, 89.45, 89.91, 90.0, 90.26, 90.51, 91.72, 91.86, 93.33, 93.81, 94.74, 95.68, 96.09, 97.05, 97.51, 97.89, 98.8, 99.89, 100.01, 100.27, 101.22, 101.62, 102.92, 103.14, 103.16, 103.47, 104.69, 106.17, 107.17, 107.54, 108.03, 108.46, 109.19, 109.24, 111.13, 112.76, 113.03, 113.64, 115.0, 116.41, 118.38, 119.12, 120.43, 123.47, 123.97, 125.08, 125.08, 126.08, 126.5, 127.03, 127.66, 127.75, 129.69, 130.28, 131.78, 132.16, 132.61, 132.74, 133.3, 133.49, 133.73, 134.07, 134.21, 134.62, 134.74, 134.79, 137.45, 139.03, 140.04, 141.11, 141.27, 143.68, 144.45, 146.07, 147.36, 147.43, 148.6, 150.02, 152.37, 152.58, 153.19, 153.25, 153.54, 154.24, 156.05, 157.02, 157.11, 157.29, 158.21, 159.18, 159.51]\n",
            "[0.05 0.6  1.13 0.14 0.34 0.06 1.16 2.72 0.38 0.23 1.74 0.66 0.05 0.38\n",
            " 1.51 0.06 0.17 0.75 0.24 0.13 2.5  0.41 0.6  1.04 1.94 0.15 0.88 0.3\n",
            " 0.21 2.13 1.64 0.73 0.04 0.23 1.   0.48 0.32 0.18 0.27 0.27 1.76 0.74\n",
            " 1.62 1.64 0.04 0.56 0.59 0.06 0.33 0.13 0.26 0.64 0.26 0.29 1.62 0.54\n",
            " 1.39 0.51 0.8  0.43 0.26 3.76 0.93 0.   0.74 0.75 0.74 0.43 0.53 1.35\n",
            " 0.33 0.6  0.79 0.16 1.45 0.35 1.22 0.   0.15 1.85 0.35 0.22 0.22 0.27\n",
            " 0.21 0.01 0.31 1.11 0.16 0.76 0.24 0.4  0.82 0.25 1.02 0.51 0.5  0.54\n",
            " 0.17 0.12 0.06 0.14 0.72 2.   0.22 0.85 0.07 0.22 0.07 0.33 0.03 0.12\n",
            " 0.05 0.77 0.51 0.08 1.67 0.41 0.39 1.44 1.13 0.29 1.94 0.03 0.05 0.25\n",
            " 0.95 0.26 0.36 0.03 0.81 1.19 0.13 0.56 2.4  0.38 1.1  0.12 0.46 0.09\n",
            " 0.26 0.25 1.21 0.14 1.47 0.48 0.93 0.94 0.41 0.96 0.46 0.38 0.91 1.09\n",
            " 0.12 0.26 0.95 0.4  1.3  0.22 0.02 0.31 1.22 1.48 1.   0.37 0.49 0.43\n",
            " 0.73 0.05 1.89 1.63 0.27 0.61 1.36 1.41 1.97 0.74 1.31 3.04 0.5  1.11\n",
            " 0.   1.   0.42 0.53 0.63 0.09 1.94 0.59 1.5  0.38 0.45 0.13 0.56 0.19\n",
            " 0.24 0.34 0.14 0.41 0.12 0.05 2.66 1.58 1.01 1.07 0.16 2.41 0.77 1.62\n",
            " 1.29 0.07 1.17 1.42 2.35 0.21 0.61 0.06 0.29 0.7  1.81 0.97 0.09 0.18\n",
            " 0.92 0.97 0.33]\n"
          ]
        },
        {
          "output_type": "display_data",
          "data": {
            "text/plain": [
              "<Figure size 640x480 with 1 Axes>"
            ],
            "image/png": "[encoded data removed]"
          },
          "metadata": {}
        },
        {
          "output_type": "stream",
          "name": "stdout",
          "text": [
            "Test du χ² pour la loi exponentielle: 0.665063392197172\n",
            "Test du χ² pour la loi normale: 0.0\n",
            "Test du χ² pour la loi gamma: 0.39628565867645776\n",
            "Estimation de lambda : 1.4294710327455922\n"
          ]
        },
        {
          "output_type": "display_data",
          "data": {
            "text/plain": [
              "<Figure size 640x480 with 1 Axes>"
            ],
            "image/png": "[encoded data removed]"
          },
          "metadata": {}
        }
      ]
    },
    {
      "cell_type": "code",
      "source": [
        "################# loi de durée de contrôle ##################################\n",
        "# Charge les données du fichier\n",
        "durations = []\n",
        "with open(\"DonneesControle.txt\", \"r\") as file:\n",
        "    for line in file:\n",
        "        data = line.strip().split()  # Sépare les valeurs par espace\n",
        "        durations.append(float(data[1]))  # Récupère uniquement la durée de contrôle (deuxième valeur)\n",
        "print(durations)\n",
        "\n",
        "durations_interval = np.diff(durations)\n",
        "print(durations_interval)\n",
        "# Histogramme des intervalles\n",
        "plt.hist(durations_interval, bins=30, alpha=0.7, color='blue')\n",
        "plt.title(\"Distribution des Intervalles de Durée de Controle (heures)\")\n",
        "plt.xlabel(\"Intervalle en heures\")\n",
        "plt.ylabel(\"Fréquence\")\n",
        "\n",
        "# Histogramme des durées de contrôle\n",
        "#plt.hist(durations, bins=30, alpha=0.7, color='blue', density=True)\n",
        "#plt.title(\"Distribution des Durées de Contrôle\")\n",
        "#plt.xlabel(\"Durée (heures)\")\n",
        "#plt.ylabel(\"Densité\")\n",
        "#plt.show()\n",
        "\n",
        "# Histogramme des intervalles\n",
        "plt.hist(durations_interval, bins=30, alpha=0.7, color='green', density=True)\n",
        "plt.title(\"Distribution des Intervalles de Durée de Contrôle\")\n",
        "plt.xlabel(\"Intervalle (heures)\")\n",
        "plt.ylabel(\"Densité\")\n",
        "plt.show()\n",
        "\n",
        "# Définir les classes pour le test de χ²\n",
        "num_bins = 10  # Choisissez le nombre de classes\n",
        "observed_counts, bin_edges = np.histogram(durations, bins=num_bins, density=False)\n",
        "bin_centers = (bin_edges[:-1] + bin_edges[1:]) / 2\n",
        "\n",
        "# Ajustement à la loi exponentielle\n",
        "lambda_est = 1 / np.mean(durations)  # Estimation de λ\n",
        "expected_expon = len(durations) * (expon.cdf(bin_edges[1:], scale=1/lambda_est) -\n",
        "                                   expon.cdf(bin_edges[:-1], scale=1/lambda_est))\n",
        "\n",
        "# Ajustement à la loi normale\n",
        "mu, sigma = norm.fit(durations)  # Estimation de μ et σ\n",
        "expected_norm = len(durations) * (norm.cdf(bin_edges[1:], loc=mu, scale=sigma) -\n",
        "                                  norm.cdf(bin_edges[:-1], loc=mu, scale=sigma))\n",
        "\n",
        "# Ajustement à la loi gamma\n",
        "shape, loc, scale = gamma.fit(durations)  # Estimation des paramètres\n",
        "expected_gamma = len(durations) * (gamma.cdf(bin_edges[1:], a=shape, loc=loc, scale=scale) -\n",
        "                                   gamma.cdf(bin_edges[:-1], a=shape, loc=loc, scale=scale))\n",
        "\n",
        "# Test du χ² pour chaque distribution\n",
        "chi2_expon = chi2.sf(np.sum((observed_counts - expected_expon)**2 / expected_expon), num_bins - 1)\n",
        "chi2_norm = chi2.sf(np.sum((observed_counts - expected_norm)**2 / expected_norm), num_bins - 1)\n",
        "chi2_gamma = chi2.sf(np.sum((observed_counts - expected_gamma)**2 / expected_gamma), num_bins - 1)\n",
        "\n",
        "# Afficher les résultats\n",
        "print(\"Résultats du test de χ² pour les durées de contrôle :\")\n",
        "print(f\"Test du χ² pour la loi exponentielle : {chi2_expon}\")\n",
        "print(f\"Test du χ² pour la loi normale : {chi2_norm}\")\n",
        "print(f\"Test du χ² pour la loi gamma : {chi2_gamma}\")\n",
        "print(f\"Estimation de λ pour la loi exponentielle : {lambda_est}\")\n",
        "print(f\"Estimation de (μ, σ) pour la loi normale : ({mu}, {sigma})\")\n",
        "print(f\"Estimation des paramètres pour la loi gamma : (shape={shape}, loc={loc}, scale={scale})\")"
      ],
      "metadata": {
        "id": "9IUV98An-e31"
      },
      "execution_count": null,
      "outputs": []
    },
    {
      "cell_type": "code",
      "source": [],
      "metadata": {
        "id": "0-uiPcBQ7aLq"
      },
      "execution_count": null,
      "outputs": []
    },
    {
      "cell_type": "markdown",
      "source": [
        "**Loi sur la durée de contrôle**"
      ],
      "metadata": {
        "id": "G9_uji-ingmV"
      }
    },
    {
      "cell_type": "code",
      "source": [
        "import numpy as np\n",
        "import matplotlib.pyplot as plt\n",
        "from scipy.stats import chi2, expon, norm, gamma\n",
        "\n",
        "# Charger les données\n",
        "durations = []\n",
        "with open(\"DonneesControle.txt\", \"r\") as file:\n",
        "    for line in file:\n",
        "        data = line.strip().split()  # Sépare les valeurs par espace\n",
        "        durations.append(float(data[1]))  # Récupère uniquement la durée de contrôle\n",
        "\n",
        "# Histogramme et comptage\n",
        "num_bins = 5  # Nombre de classes pour l'histogramme\n",
        "observed_counts, bin_edges = np.histogram(durations, bins=num_bins, density=False)\n",
        "bin_centers = (bin_edges[:-1] + bin_edges[1:]) / 2  # Centres des classes\n",
        "bin_width = bin_edges[1] - bin_edges[0]\n",
        "\n",
        "# Fréquences attendues pour chaque distribution\n",
        "expon_fit = expon.fit(durations)  # Ajustement à une loi exponentielle\n",
        "expected_expon = len(durations) * (expon.cdf(bin_edges[1:], *expon_fit) -\n",
        "                                   expon.cdf(bin_edges[:-1], *expon_fit))\n",
        "\n",
        "norm_fit = norm.fit(durations)  # Ajustement à une loi normale\n",
        "expected_norm = len(durations) * (norm.cdf(bin_edges[1:], *norm_fit) -\n",
        "                                  norm.cdf(bin_edges[:-1], *norm_fit))\n",
        "\n",
        "gamma_fit = gamma.fit(durations)  # Ajustement à une loi gamma\n",
        "expected_gamma = len(durations) * (gamma.cdf(bin_edges[1:], *gamma_fit) -\n",
        "                                   gamma.cdf(bin_edges[:-1], *gamma_fit))\n",
        "\n",
        "# Test du χ² pour chaque distribution\n",
        "chi2_expon = chi2.sf(np.sum((observed_counts - expected_expon)**2 / expected_expon), num_bins - 1)\n",
        "chi2_norm = chi2.sf(np.sum((observed_counts - expected_norm)**2 / expected_norm), num_bins - 1)\n",
        "chi2_gamma = chi2.sf(np.sum((observed_counts - expected_gamma)**2 / expected_gamma), num_bins - 1)\n",
        "\n",
        "# Résultats\n",
        "print(\"Résultats du test de χ² pour les durées de contrôle :\")\n",
        "print(f\"Test du χ² pour la loi exponentielle : {chi2_expon}\")\n",
        "print(f\"Test du χ² pour la loi normale : {chi2_norm}\")\n",
        "print(f\"Test du χ² pour la loi gamma : {chi2_gamma}\")\n",
        "\n",
        "print(\"\\nParamètres estimés :\")\n",
        "print(f\"Loi exponentielle : λ = {1/expon_fit[1]}\")\n",
        "print(f\"Loi normale : μ = {norm_fit[0]}, σ = {norm_fit[1]}\")\n",
        "print(f\"Loi gamma : shape = {gamma_fit[0]}, loc = {gamma_fit[1]}, scale = {gamma_fit[2]}\")\n",
        "\n",
        "# Affichage des distributions ajustées\n",
        "plt.hist(durations, bins=num_bins, alpha=0.6, color='blue', density=True, label='Données observées')\n",
        "x = np.linspace(min(durations), max(durations), 1000)\n",
        "plt.plot(x, expon.pdf(x, *expon_fit), 'r-', label='Loi exponentielle ajustée')\n",
        "plt.plot(x, norm.pdf(x, *norm_fit), 'g--', label='Loi normale ajustée')\n",
        "plt.plot(x, gamma.pdf(x, *gamma_fit), 'b:', label='Loi gamma ajustée')\n",
        "plt.title(\"Ajustement des distributions aux durées de contrôle\")\n",
        "plt.xlabel(\"Durée (heures)\")\n",
        "plt.ylabel(\"Densité\")\n",
        "plt.legend()\n",
        "plt.show()\n"
      ],
      "metadata": {
        "id": "Vyhm0MlXnfJe",
        "outputId": "63f6f948-3c9e-4e70-8715-827e60b3c177",
        "colab": {
          "base_uri": "https://localhost:8080/",
          "height": 628
        }
      },
      "execution_count": 9,
      "outputs": [
        {
          "output_type": "stream",
          "name": "stdout",
          "text": [
            "Résultats du test de χ² pour les durées de contrôle :\n",
            "Test du χ² pour la loi exponentielle : 1.2862943815635954e-23\n",
            "Test du χ² pour la loi normale : 5.974694075644781e-06\n",
            "Test du χ² pour la loi gamma : 5.760493527642376e-06\n",
            "\n",
            "Paramètres estimés :\n",
            "Loi exponentielle : λ = 2.335108562064728\n",
            "Loi normale : μ = 0.6782456140350877, σ = 0.24016896688831785\n",
            "Loi gamma : shape = 12546.263557228733, loc = -26.228438333812072, scale = 0.0021445978994733012\n"
          ]
        },
        {
          "output_type": "display_data",
          "data": {
            "text/plain": [
              "<Figure size 640x480 with 1 Axes>"
            ],
            "image/png": "[encoded data removed]"
          },
          "metadata": {}
        }
      ]
    }
  ]
}